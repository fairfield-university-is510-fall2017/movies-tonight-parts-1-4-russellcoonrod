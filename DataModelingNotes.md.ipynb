{
 "cells": [
  {
   "cell_type": "markdown",
   "metadata": {},
   "source": [
    "# Data Modeling Notes"
   ]
  },
  {
   "cell_type": "markdown",
   "metadata": {},
   "source": [
    "## Normalization Analysis\n",
    "\n",
    "### 1NF Conversion\n",
    "\n",
    "DATASHEET(TName, Location, Phone, MTitle, ShowTime, Rating, CCode, CName)\n",
    "\n",
    "### 2NF Conversion\n",
    "\n",
    "Tname-->(Location, Phone)\n",
    "MTitle-->(Rating)  \n",
    "\n",
    "THEATERS(TName, Location, Phone)\n",
    "MOVIES(MTitle, Rating) \n",
    "CREDITS(MTitle, CCode, CName) \n",
    "SHOW(TName, MTitle, ShowTime) \n",
    "ARTIST(CName, Bio)\n",
    "\n",
    "### 3NF Conversion\n",
    "\n",
    "We have a transitive dependency in the form of: Location-->(Phone)  -borrowed intel \n",
    "\n",
    "THEATERS(TName, Phone) -adjustment made from borrowed intel\n",
    "LOC(Phone,Location) - adjustment made from borrowed intel\n",
    "MOVIES(MTitle, Rating) \n",
    "CREDITS(MTitle, CCode, CName) \n",
    "SHOW(TName, MTitle, ShowTime) \n",
    "ARTIST(CName, Bio)\n",
    "\n",
    "### BCNF Conversion\n",
    "\n",
    "We have a transitive dependency in the form of: Location-->(Phone)  -borrowed intel \n",
    "\n",
    "THEATERS(TName, Phone) -adjustment made from borrowed intel\n",
    "LOC(Phone,Location) - adjustment made from borrowed intel\n",
    "MOVIES(MTitle, Rating) \n",
    "CREDITS(MTitle, CCode, CName) \n",
    "SHOW(TName, MTitle, ShowTime) \n",
    "ARTIST(CName, Bio)"
   ]
  },
  {
   "cell_type": "markdown",
   "metadata": {},
   "source": [
    "## Entity Relationship Model\n",
    "\n",
    "[ERD](../MoviesTonightERD.png) "
   ]
  }
 ],
 "metadata": {
  "kernelspec": {
   "display_name": "Python 3",
   "language": "python",
   "name": "python3"
  },
  "language_info": {
   "codemirror_mode": {
    "name": "ipython",
    "version": 3
   },
   "file_extension": ".py",
   "mimetype": "text/x-python",
   "name": "python",
   "nbconvert_exporter": "python",
   "pygments_lexer": "ipython3",
   "version": "3.6.1"
  }
 },
 "nbformat": 4,
 "nbformat_minor": 2
}
